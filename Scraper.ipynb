{
 "cells": [
  {
   "cell_type": "code",
   "execution_count": 1,
   "metadata": {},
   "outputs": [],
   "source": [
    "# import libraries\n",
    "import csv\n",
    "from requests import get\n",
    "from requests.exceptions import RequestException\n",
    "from contextlib import closing\n",
    "from urllib.request import urlopen\n",
    "from bs4 import BeautifulSoup\n"
   ]
  },
  {
   "cell_type": "code",
   "execution_count": 11,
   "metadata": {},
   "outputs": [],
   "source": [
    "all_pro_base_url = \"https://www.pro-football-reference.com/years/\"\n",
    "all_pro_end_url = \"/allpro.htm\"\n",
    "\n",
    "pro_bowl_base_url = \"https://www.pro-football-reference.com/years/\"\n",
    "pro_bowl_end_url = \"/probowl.htm\"\n",
    "\n",
    "year_start = 1950\n",
    "year_end = 2012\n",
    "    \n",
    "def getContent(url):\n",
    "    try:\n",
    "        with closing(get(url, stream=True)) as resp:\n",
    "            return resp.content\n",
    "    except RequestException as e:\n",
    "        return None\n",
    "\n",
    "# writes to a csv pro-bowl players 1950-2012\n",
    "def getProBowl():\n",
    "    with open('pro_bowl.csv', 'w') as csvfile:\n",
    "        wr = csv.writer(csvfile, delimiter = ',')\n",
    "        wr.writerow(['name'])\n",
    "        for yr in range(1950, 2019):\n",
    "            year_str = str(yr)\n",
    "            curr_url = pro_bowl_base_url + year_str + pro_bowl_end_url\n",
    "            content = getContent(curr_url)\n",
    "            soup = BeautifulSoup(content, 'html.parser')\n",
    "            for p in soup.select('td'):\n",
    "                if p['data-stat'] == 'player':\n",
    "                    name = p['csk']\n",
    "                    splt = str.split(name, ',')\n",
    "                    new_name = splt[1].strip() + \" \" + splt[0].strip()\n",
    "                    wr.writerow([new_name])\n",
    "    return\n",
    "\n",
    "# writes to a csv all-pro players 1950-2012\n",
    "def getAllPro():\n",
    "    with open('all_pro.csv', 'w') as csvfile:\n",
    "        wr = csv.writer(csvfile, delimiter = ',')\n",
    "        wr.writerow(['name'])\n",
    "        for yr in range(1950, 2019):\n",
    "            year_str = str(yr)\n",
    "            curr_url = all_pro_base_url + year_str + all_pro_end_url\n",
    "            content = getContent(curr_url)\n",
    "            soup = BeautifulSoup(content, 'html.parser')\n",
    "            for p in soup.select('td'):\n",
    "                if p['data-stat'] == 'player':\n",
    "                    name = p['csk']\n",
    "                    splt = str.split(name, ',')\n",
    "                    new_name = splt[1].strip() + \" \" + splt[0].strip()\n",
    "                    wr.writerow([new_name])\n",
    "    return\n",
    "\n",
    "getAllPro()\n",
    "getProBowl()\n",
    "\n",
    "    "
   ]
  },
  {
   "cell_type": "code",
   "execution_count": null,
   "metadata": {},
   "outputs": [],
   "source": []
  },
  {
   "cell_type": "code",
   "execution_count": null,
   "metadata": {},
   "outputs": [],
   "source": []
  }
 ],
 "metadata": {
  "kernelspec": {
   "display_name": "Python 3",
   "language": "python",
   "name": "python3"
  },
  "language_info": {
   "codemirror_mode": {
    "name": "ipython",
    "version": 3
   },
   "file_extension": ".py",
   "mimetype": "text/x-python",
   "name": "python",
   "nbconvert_exporter": "python",
   "pygments_lexer": "ipython3",
   "version": "3.6.4"
  }
 },
 "nbformat": 4,
 "nbformat_minor": 2
}
